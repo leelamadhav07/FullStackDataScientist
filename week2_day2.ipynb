{
 "cells": [
  {
   "cell_type": "code",
   "execution_count": 1,
   "id": "dfaf6d94",
   "metadata": {},
   "outputs": [
    {
     "name": "stdout",
     "output_type": "stream",
     "text": [
      "5\n"
     ]
    }
   ],
   "source": [
    "# 1. Problem: Given a text file, count the total number of words.\n",
    "with open(\"file1.txt\", \"r\", encoding=\"utf-8\") as file:\n",
    "    text=file.read()\n",
    "words=text.split()\n",
    "print(len(words))"
   ]
  },
  {
   "cell_type": "code",
   "execution_count": 4,
   "id": "a35503c2",
   "metadata": {},
   "outputs": [
    {
     "name": "stdout",
     "output_type": "stream",
     "text": [
      "Strong password\n"
     ]
    }
   ],
   "source": [
    "# 2. Problem: Write a program to check if a password is strong (at least 8 characters, contains uppercase, lowercase, digit, and special char).\n",
    "def strong_pass(password):\n",
    "    if(len(password) < 8):\n",
    "        return False\n",
    "    has_upper=False\n",
    "    has_lower=False\n",
    "    has_digit=False\n",
    "    has_special=False\n",
    "    special_chars=\"!@#$%^&*(),.?\\\":{}|<>\"\n",
    "    for char in password:\n",
    "        if(char.isupper()):\n",
    "            has_upper=True\n",
    "        elif char.islower():\n",
    "            has_lower=True\n",
    "        elif char.isdigit():\n",
    "            has_digit=True\n",
    "        elif char in special_chars:\n",
    "            has_special=True\n",
    "    return has_upper and has_lower and has_digit and has_special\n",
    "password=input('Enter a password')\n",
    "if strong_pass(password):\n",
    "    print('Strong password')\n",
    "else:\n",
    "    print('Invalid password')"
   ]
  },
  {
   "cell_type": "code",
   "execution_count": 6,
   "id": "3f30958c",
   "metadata": {},
   "outputs": [
    {
     "name": "stdout",
     "output_type": "stream",
     "text": [
      "Addition  5\n"
     ]
    }
   ],
   "source": [
    "# 3. Problem: Implement a calculator with +, -, *, / operations.\n",
    "a=int(input())\n",
    "b=int(input())\n",
    "option=int(input())\n",
    "if option == 1:\n",
    "    print(\"Addition \",a+b)\n",
    "elif option == 2:\n",
    "    print(\"Subtraction \",a-b)\n",
    "elif option == 3:\n",
    "    print(\"Multiplication \",a*b)\n",
    "elif option == 4:\n",
    "    print(\"Division \",a/b)\n",
    "else:\n",
    "    print('Invalid Option')"
   ]
  },
  {
   "cell_type": "code",
   "execution_count": 12,
   "id": "7c95298c",
   "metadata": {},
   "outputs": [
    {
     "name": "stdout",
     "output_type": "stream",
     "text": [
      "Duplicate names: ['leela']\n"
     ]
    }
   ],
   "source": [
    "# 4. Problem: Given a list of student names, find duplicates.\n",
    "li = input(\"Enter student names: \").split()\n",
    "seen = set()\n",
    "duplicates = set()\n",
    "for name in li:\n",
    "    if name in seen:\n",
    "        duplicates.add(name)\n",
    "    else:\n",
    "        seen.add(name)\n",
    "print(\"Duplicate names:\", list(duplicates))\n",
    "\n"
   ]
  },
  {
   "cell_type": "code",
   "execution_count": 16,
   "id": "23d6a89b",
   "metadata": {},
   "outputs": [
    {
     "name": "stdout",
     "output_type": "stream",
     "text": [
      "fahrenhei  98.60000000000001\n"
     ]
    }
   ],
   "source": [
    "#5.. Problem: Convert between Celsius and Fahrenheit.\n",
    "cel=int(input())\n",
    "f=(cel*(9/5))+32\n",
    "print(\"fahrenhei \",f)"
   ]
  },
  {
   "cell_type": "code",
   "execution_count": 18,
   "id": "5753a4bd",
   "metadata": {},
   "outputs": [
    {
     "name": "stdout",
     "output_type": "stream",
     "text": [
      "6\n"
     ]
    }
   ],
   "source": [
    "# 6. Problem: Find the largest number from a list of integers\n",
    "li=list(map(int,input().split()))\n",
    "li.sort()\n",
    "print(li[-1])"
   ]
  },
  {
   "cell_type": "code",
   "execution_count": 19,
   "id": "e5b897a4",
   "metadata": {},
   "outputs": [
    {
     "name": "stdout",
     "output_type": "stream",
     "text": [
      "100.0\n"
     ]
    }
   ],
   "source": [
    "# 7. Problem: Calculate Simple Interest.\n",
    "p,t,r=map(int,input().split())\n",
    "res=(p*t*r)/100\n",
    "print(res)"
   ]
  },
  {
   "cell_type": "code",
   "execution_count": 22,
   "id": "3d077f4e",
   "metadata": {},
   "outputs": [
    {
     "name": "stdout",
     "output_type": "stream",
     "text": [
      "{'pradeep': 67, 'sumith': 67, 'praneeth': 34}\n"
     ]
    }
   ],
   "source": [
    "#8.. Problem: Given a dictionary of student names and attendance %, find defaulters (<75%).\n",
    "default={}\n",
    "for i in range(5):\n",
    "    name=str(input())\n",
    "    attendance=int(input())\n",
    "    if(attendance < 75):\n",
    "        default[name]=attendance\n",
    "print(default)"
   ]
  },
  {
   "cell_type": "code",
   "execution_count": null,
   "id": "da8b028c",
   "metadata": {},
   "outputs": [
    {
     "name": "stdout",
     "output_type": "stream",
     "text": [
      "10\n"
     ]
    }
   ],
   "source": [
    "#9. Problem: Input: 1234 → Output: 10\n",
    "s=input()\n",
    "n=int(s)\n",
    "sum=0\n",
    "while n>0:\n",
    "    rem=n%10\n",
    "    sum+=rem\n",
    "    n//=10\n",
    "print(sum)"
   ]
  },
  {
   "cell_type": "code",
   "execution_count": 30,
   "id": "b4d59c9d",
   "metadata": {},
   "outputs": [
    {
     "name": "stdout",
     "output_type": "stream",
     "text": [
      "13 is a prime\n"
     ]
    }
   ],
   "source": [
    "# 10. Problem: Write a function to check if a number is prime.\n",
    "def is_prime(n):\n",
    "    if n<2:\n",
    "        return False\n",
    "    for i in range(2,int(n ** 0.5)+1):\n",
    "        if n%i == 0:\n",
    "            return False\n",
    "    return True\n",
    "n=int(input())\n",
    "if is_prime(n):\n",
    "    print(f\"{n} is a prime\")\n",
    "else:\n",
    "    print(f\"{n} is not a prime\")"
   ]
  },
  {
   "cell_type": "code",
   "execution_count": 31,
   "id": "4ca13c43",
   "metadata": {},
   "outputs": [
    {
     "name": "stdout",
     "output_type": "stream",
     "text": [
      "min =  1\n",
      "max =  9\n"
     ]
    }
   ],
   "source": [
    "# 11. Problem: Find smallest and largest numbers from a list.\n",
    "li=list(map(int,input().split()))\n",
    "li.sort()\n",
    "print(\"min = \",li[0])\n",
    "print(\"max = \",li[-1])"
   ]
  },
  {
   "cell_type": "code",
   "execution_count": 34,
   "id": "590ddeff",
   "metadata": {},
   "outputs": [
    {
     "name": "stdout",
     "output_type": "stream",
     "text": [
      "total bill price is : 3321\n"
     ]
    }
   ],
   "source": [
    "# 12. Problem: Given items with prices in a dictionary, calculate total bill.\n",
    "d={}\n",
    "sum1=0\n",
    "n=int(input('Enter no of items'))\n",
    "for i in range(n):\n",
    "    items=input('enter item')\n",
    "    price=int(input('enter price'))\n",
    "    d[items]=price\n",
    "    sum1+=price\n",
    "print(\"total bill price is :\",sum1)"
   ]
  },
  {
   "cell_type": "code",
   "execution_count": 35,
   "id": "6e36e966",
   "metadata": {},
   "outputs": [
    {
     "name": "stdout",
     "output_type": "stream",
     "text": [
      "4  is largest\n"
     ]
    }
   ],
   "source": [
    "#13. Problem: Input 3 numbers, print the largest.\n",
    "a,b,c=map(int,input().split())\n",
    "if(a>b):\n",
    "    if(a>c):\n",
    "        print(a,\" is largest\")\n",
    "    else:\n",
    "        print(c,\" is largest\")\n",
    "else:\n",
    "    if(b>c):\n",
    "        print(b,\" is largest\")\n",
    "    else:\n",
    "        print(c,\" is largest\")"
   ]
  },
  {
   "cell_type": "code",
   "execution_count": 36,
   "id": "da2ebb3b",
   "metadata": {},
   "outputs": [
    {
     "name": "stdout",
     "output_type": "stream",
     "text": [
      "{'l': 2, 'e': 2, 'a': 1}\n"
     ]
    }
   ],
   "source": [
    "# 14. Problem: Count how many times each character appears in a string.\n",
    "d={}\n",
    "s=input('Enter a string')\n",
    "for i in s:\n",
    "    if i in d:\n",
    "        d[i]+=1\n",
    "    else:\n",
    "        d[i]=1\n",
    "print(d)"
   ]
  },
  {
   "cell_type": "code",
   "execution_count": 40,
   "id": "a9d5dd17",
   "metadata": {},
   "outputs": [
    {
     "name": "stdout",
     "output_type": "stream",
     "text": [
      "Total =  3000\n"
     ]
    }
   ],
   "source": [
    "# 15. Problem: Calculate electricity bill:\n",
    "# First 100 units → ₹5/unit\n",
    "# Next 100 units → ₹7/unit\n",
    "# Above 200 units → ₹10/unit\n",
    "n=int(input())\n",
    "if(n<=100):\n",
    "    print('Total = ',n*5)\n",
    "elif n>100 and n<=200:\n",
    "    print('Total = ',n*7)\n",
    "else:\n",
    "    print('Total = ',n*10)"
   ]
  },
  {
   "cell_type": "code",
   "execution_count": 42,
   "id": "5050afa5",
   "metadata": {},
   "outputs": [
    {
     "name": "stdout",
     "output_type": "stream",
     "text": [
      "['apple', 'ball', 'cat', 'dog']\n"
     ]
    }
   ],
   "source": [
    "# 16. Problem: Sort a list of names in ascending order.\n",
    "li=list(map(str,input().split()))\n",
    "li.sort()\n",
    "print(li)"
   ]
  },
  {
   "cell_type": "code",
   "execution_count": 45,
   "id": "499faac5",
   "metadata": {},
   "outputs": [
    {
     "name": "stdout",
     "output_type": "stream",
     "text": [
      "olleh\n"
     ]
    }
   ],
   "source": [
    "# 17. Problem: Input: 1234 → Output: 4321\n",
    "s=input()\n",
    "li=list(s)\n",
    "i,j=0,len(li)-1\n",
    "while(i<=j):\n",
    "    li[i],li[j]=li[j],li[i]\n",
    "    i+=1\n",
    "    j-=1\n",
    "print(\"\".join(li))"
   ]
  },
  {
   "cell_type": "code",
   "execution_count": 48,
   "id": "4615f02e",
   "metadata": {},
   "outputs": [
    {
     "name": "stdout",
     "output_type": "stream",
     "text": [
      "positive =  2\n",
      "Negative =  1\n",
      "Zeroes =  1\n"
     ]
    }
   ],
   "source": [
    "#18. Problem: Given a list, count positive, negative, and zero numbers.\n",
    "li=list(map(int,input().split()))\n",
    "pos=neg=zero=0\n",
    "for i in li:\n",
    "    if(li[i] > 0):\n",
    "        pos+=1\n",
    "    elif li[i] < 0:\n",
    "        neg+=1\n",
    "    else:\n",
    "        zero+=1\n",
    "print('positive = ',pos)\n",
    "print('Negative = ',neg)\n",
    "print('Zeroes = ',zero)"
   ]
  },
  {
   "cell_type": "code",
   "execution_count": 53,
   "id": "0beeb899",
   "metadata": {},
   "outputs": [
    {
     "name": "stdout",
     "output_type": "stream",
     "text": [
      "please enter the correct pin \n",
      "please enter the correct pin \n",
      "You have entered correct pin\n"
     ]
    }
   ],
   "source": [
    "# 19. Problem: User has 3 attempts to enter correct PIN.\n",
    "pin=1234\n",
    "count=3\n",
    "while count>0:\n",
    "    n=int(input('Enter correct pin'))\n",
    "    if(n==pin):\n",
    "        print('You have entered correct pin')\n",
    "        break\n",
    "    else:\n",
    "        print('please enter the correct pin ')\n",
    "    count-=1\n",
    "if(count==0):\n",
    "    print('Your chances are completed try again after 30 seconds')\n"
   ]
  },
  {
   "cell_type": "code",
   "execution_count": 60,
   "id": "b10d860b",
   "metadata": {},
   "outputs": [
    {
     "name": "stdout",
     "output_type": "stream",
     "text": [
      "Result: 5\n"
     ]
    }
   ],
   "source": [
    "#20. Problem: Write a program that asks for two numbers and divides them. Handle division by zero.\n",
    "try:\n",
    "    a, b = map(int, input(\"Enter two numbers: \").split())\n",
    "    result = a // b\n",
    "    print(f\"Result: {result}\")\n",
    "except ZeroDivisionError:\n",
    "    print(\"Error: Division by zero is not allowed.\")"
   ]
  },
  {
   "cell_type": "code",
   "execution_count": 64,
   "id": "4a44a9a7",
   "metadata": {},
   "outputs": [
    {
     "name": "stdout",
     "output_type": "stream",
     "text": [
      "Result: 2\n"
     ]
    }
   ],
   "source": [
    "# 21. Problem: Write a program that handles both ValueError (invalid input) and ZeroDivisionError.\n",
    "try:\n",
    "    a, b = map(int, input(\"Enter two numbers: \").split())\n",
    "    result = a // b\n",
    "    print(f\"Result: {result}\")\n",
    "except ZeroDivisionError:\n",
    "    print(\"Error: Division by zero is not allowed.\")\n",
    "except ValueError:\n",
    "    print(\"Error enter proper value\")"
   ]
  },
  {
   "cell_type": "code",
   "execution_count": 65,
   "id": "12f5d117",
   "metadata": {},
   "outputs": [
    {
     "name": "stdout",
     "output_type": "stream",
     "text": [
      "Withdrawal successful. Remaining balance: 420\n"
     ]
    }
   ],
   "source": [
    "# 22. Problem: If withdrawal amount is greater than balance, raise an exception.\n",
    "try:\n",
    "    withdraw = int(input(\"Enter the amount to withdraw: \"))\n",
    "    balance = 2000\n",
    "\n",
    "    if withdraw > balance:\n",
    "        raise Exception(\"Insufficient balance!\")\n",
    "\n",
    "    balance -= withdraw\n",
    "    print(f\"Withdrawal successful. Remaining balance: {balance}\")\n",
    "\n",
    "except Exception as e:\n",
    "    print(f\"Error: {e}\")\n",
    "\n",
    "\n",
    "\n"
   ]
  },
  {
   "cell_type": "code",
   "execution_count": null,
   "id": "7cec7d71",
   "metadata": {},
   "outputs": [
    {
     "name": "stdout",
     "output_type": "stream",
     "text": [
      "bill is  2200\n"
     ]
    }
   ],
   "source": [
    "# #23. Problem: Calculate total price, handle invalid input, and always show \"Bill processing finished\".\n",
    "# • First 100 units → ₹5/unit\n",
    "# • Next 100 units → ₹7/unit\n",
    "# • Above 200 units → ₹10/uni\n",
    "try:\n",
    "    n=int(input())\n",
    "    if n<=100:\n",
    "        print(\"bill is \",n*5)\n",
    "    elif n>100 and n<=200:\n",
    "        print(\"bill is \",n*7)\n",
    "    else:\n",
    "        print(\"bill is \",n*10)\n",
    "except ValueError:\n",
    "    print(\"enter correct value\")"
   ]
  }
 ],
 "metadata": {
  "kernelspec": {
   "display_name": "Python 3",
   "language": "python",
   "name": "python3"
  },
  "language_info": {
   "codemirror_mode": {
    "name": "ipython",
    "version": 3
   },
   "file_extension": ".py",
   "mimetype": "text/x-python",
   "name": "python",
   "nbconvert_exporter": "python",
   "pygments_lexer": "ipython3",
   "version": "3.11.0"
  }
 },
 "nbformat": 4,
 "nbformat_minor": 5
}

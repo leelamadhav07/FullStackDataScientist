{
 "cells": [
  {
   "cell_type": "code",
   "execution_count": 2,
   "id": "26cd875e",
   "metadata": {},
   "outputs": [
    {
     "name": "stdout",
     "output_type": "stream",
     "text": [
      "hello\n"
     ]
    }
   ],
   "source": [
    "print('hello')"
   ]
  },
  {
   "cell_type": "code",
   "execution_count": 3,
   "id": "239ad19b",
   "metadata": {},
   "outputs": [
    {
     "name": "stdout",
     "output_type": "stream",
     "text": [
      "2\n"
     ]
    }
   ],
   "source": [
    "a=int(input('enter a'))\n",
    "print(a)"
   ]
  },
  {
   "cell_type": "code",
   "execution_count": null,
   "id": "51f442ba",
   "metadata": {},
   "outputs": [
    {
     "name": "stdout",
     "output_type": "stream",
     "text": [
      "Yes prime\n"
     ]
    }
   ],
   "source": [
    "#11.A security system checks whether the entered code is prime for extra authentication. Write a program to check if a given number is prime.\n",
    "import math as m\n",
    "a=int(input(\"Enter a number: \"))\n",
    "if a<=1:\n",
    "    print('Not a prime')\n",
    "else:\n",
    "    for i in range(2,int(m.sqrt(a))+1):\n",
    "        if a%i==0:\n",
    "            print('Not a prime')\n",
    "            break\n",
    "    else:\n",
    "        print('yes Prime')"
   ]
  },
  {
   "cell_type": "code",
   "execution_count": 6,
   "id": "9cba9f45",
   "metadata": {},
   "outputs": [
    {
     "name": "stdout",
     "output_type": "stream",
     "text": [
      "4\n"
     ]
    }
   ],
   "source": [
    "#12.In a class test, a teacher wants to know the second highest score among students. Write a program to find the second largest number in a list.\n",
    "a=list(map(int,input().split()))\n",
    "a.sort()\n",
    "print(a[-2])\n",
    "\n"
   ]
  },
  {
   "cell_type": "code",
   "execution_count": 12,
   "id": "f19c244f",
   "metadata": {},
   "outputs": [
    {
     "name": "stdout",
     "output_type": "stream",
     "text": [
      "650\n"
     ]
    }
   ],
   "source": [
    "#13.A fitness app counts only even-numbered steps to calculate “balanced walking.” Write a program to find the sum of even numbers from 1 to 50.\n",
    "count=0\n",
    "for i in range(1,51):\n",
    "    if i%2==0 :\n",
    "        count+=i\n",
    "print(count)\n"
   ]
  },
  {
   "cell_type": "code",
   "execution_count": 19,
   "id": "fe0b4baf",
   "metadata": {},
   "outputs": [
    {
     "name": "stdout",
     "output_type": "stream",
     "text": [
      "9 2\n"
     ]
    }
   ],
   "source": [
    "#14.A typing speed test wants to know how many uppercase and lowercase letters a user typed. Write a program to count uppercase and lowercase characters in a string.\n",
    "s=input('enter a string')\n",
    "lcount=ucount=0\n",
    "for i in s:\n",
    "    if i.islower():\n",
    "        lcount+=1\n",
    "    elif i.isupper():\n",
    "        ucount+=1\n",
    "print(lcount,ucount)\n",
    "\n",
    "\n"
   ]
  },
  {
   "cell_type": "code",
   "execution_count": 30,
   "id": "e257dbab",
   "metadata": {},
   "outputs": [
    {
     "name": "stdout",
     "output_type": "stream",
     "text": [
      "[0, 1, 1, 2, 3, 5]\n"
     ]
    }
   ],
   "source": [
    "#15.A financial tool simulates Fibonacci-like growth in savings. Write a program to generate the Fibonacci sequence up to n terms.\n",
    "def fibo(n):\n",
    "    sequence = []\n",
    "    a, b = 0, 1\n",
    "    for _ in range(n):\n",
    "        sequence.append(a)\n",
    "        a, b = b, a + b\n",
    "    return sequence\n",
    "\n",
    "# Input: number of terms\n",
    "n = int(input(\"Enter number of terms: \"))\n",
    "print(fibo(n))\n",
    "\n",
    "\n"
   ]
  },
  {
   "cell_type": "code",
   "execution_count": 26,
   "id": "33ce079d",
   "metadata": {},
   "outputs": [
    {
     "name": "stdout",
     "output_type": "stream",
     "text": [
      "Anagram\n"
     ]
    }
   ],
   "source": [
    "#16.A word puzzle game checks if two words are anagrams (same letters but shuffled). Write a program to check if two strings are anagrams.\n",
    "s1=input('Enter string1:')\n",
    "s2=input('Enter string2')\n",
    "l1=list(s1)\n",
    "l1.sort()\n",
    "l2=list(s2)\n",
    "l2.sort()\n",
    "if l1 == l2:\n",
    "    print('Anagram')\n",
    "else:\n",
    "    print('Not Anagaram')\n",
    "\n",
    "\n"
   ]
  },
  {
   "cell_type": "code",
   "execution_count": 29,
   "id": "c296bf27",
   "metadata": {},
   "outputs": [
    {
     "name": "stdout",
     "output_type": "stream",
     "text": [
      "False\n"
     ]
    }
   ],
   "source": [
    "#17.A science experiment needs to verify whether a number is perfect (sum of divisors = number). Write a program to check if a number is a perfect number.\n",
    "a=int(input())\n",
    "count=0\n",
    "for i in range(1,a):\n",
    "    if(a%i==0):\n",
    "        count+=i\n",
    "print(count==a)\n",
    "\n"
   ]
  },
  {
   "cell_type": "code",
   "execution_count": 37,
   "id": "296ffd9d",
   "metadata": {},
   "outputs": [
    {
     "name": "stdout",
     "output_type": "stream",
     "text": [
      "Percentage: 90.0\n",
      "Grade: A\n"
     ]
    }
   ],
   "source": [
    "#18.\n",
    "\n",
    "# A school report system calculates percentage and assigns grades:\n",
    "\n",
    "# ≥90 → A\n",
    "\n",
    "# ≥75 → B\n",
    "\n",
    "# ≥50 → C\n",
    "\n",
    "# <50 → Fail\n",
    "\n",
    "# Write a program that takes 5 subject marks, calculates percentage, and prints the grade\n",
    "a = list(map(int, input(\"Enter 5 subject marks: \").split()))\n",
    "total = sum(a)\n",
    "percentage = (total / 500) * 100   \n",
    "print(\"Percentage:\", percentage)\n",
    "if percentage >= 90:\n",
    "    print(\"Grade: A\")\n",
    "elif percentage >= 75:\n",
    "    print(\"Grade: B\")\n",
    "elif percentage >= 50:\n",
    "    print(\"Grade: C\")\n",
    "else:\n",
    "    print(\"Grade: Fail\")\n"
   ]
  },
  {
   "cell_type": "code",
   "execution_count": 40,
   "id": "3c96eb1a",
   "metadata": {},
   "outputs": [
    {
     "name": "stdout",
     "output_type": "stream",
     "text": [
      "[2, 3, 5, 7, 11, 13, 17, 19, 23, 29, 31, 37, 41, 43, 47, 53, 59, 61, 67, 71, 73, 79, 83, 89, 97]\n"
     ]
    }
   ],
   "source": [
    "#19.A mathematics quiz app generates all prime numbers between 1 and 100. Write a program to print all prime numbers in this range.\n",
    "import math as m\n",
    "def isPrime(n):\n",
    "    for i in range(2,int(m.sqrt(n))+1):\n",
    "        if(n%i == 0):\n",
    "            return False\n",
    "    return True\n",
    "l=[]\n",
    "for i in range(2,101):\n",
    "    if(isPrime(i)):\n",
    "        l.append(i)\n",
    "print(l)\n"
   ]
  },
  {
   "cell_type": "code",
   "execution_count": 43,
   "id": "3046a5d3",
   "metadata": {},
   "outputs": [
    {
     "name": "stdout",
     "output_type": "stream",
     "text": [
      "5\n"
     ]
    }
   ],
   "source": [
    "#20.An online editor counts words in an article but doesn’t allow using split(). Write a program to count the number of words in a sentence.\n",
    "s=input('Enter a string')\n",
    "count=1\n",
    "for i in s:\n",
    "    if i==\" \":\n",
    "        count+=1\n",
    "print(count)\n"
   ]
  },
  {
   "cell_type": "code",
   "execution_count": 53,
   "id": "fb282ee3",
   "metadata": {},
   "outputs": [
    {
     "name": "stdout",
     "output_type": "stream",
     "text": [
      "Dicount  20.0\n",
      "Ticket Price  80.0\n"
     ]
    }
   ],
   "source": [
    "#21. Movie Ticket DiscountA cinema gives a 20% discount if the customer is a student and 10% discount if the customer is a senior citizen (age ≥ 60).\n",
    "#Write a program that takes ticket price, age, and student status (yes/no) as input and prints the final ticket price.\n",
    "ticket_price=int(input())\n",
    "age=int(input())\n",
    "status=input()\n",
    "if status=='yes':\n",
    "    print(\"Dicount \",ticket_price*0.2) \n",
    "    print(\"Ticket Price \",ticket_price-(ticket_price*0.2))\n",
    "else:\n",
    "    print(\"Dicount \",ticket_price*0.1) \n",
    "    print(\"Ticket Price \",ticket_price-(ticket_price*0.1))\n"
   ]
  },
  {
   "cell_type": "code",
   "execution_count": null,
   "id": "ef3db5a0",
   "metadata": {},
   "outputs": [
    {
     "name": "stdout",
     "output_type": "stream",
     "text": [
      "310\n"
     ]
    }
   ],
   "source": [
    "#22 Scenario: A grocery shopkeeper wants to calculate the bill of 3 items. Prices and quantities should be stored in variables, and the program should display the total cost.\n",
    " \n",
    "# Sample Input:\n",
    " \n",
    "# Item1 Price: 50, Quantity: 2\n",
    "# Item2 Price: 30, Quantity: 5\n",
    "# Item3 Price: 20, Quantity: 3\n",
    " \n",
    " \n",
    "# Expected Output:\n",
    " \n",
    "#Total Bill = (50*2) + (30*5) + (20*3) = 100 + 150 + 60 = 310\n",
    "total=0\n",
    "for _ in range(3):\n",
    "    price=int(input())\n",
    "    quantity=int(input())\n",
    "    total=total+(price*quantity)\n",
    "print(total)"
   ]
  },
  {
   "cell_type": "code",
   "execution_count": null,
   "id": "8d66b66b",
   "metadata": {},
   "outputs": [
    {
     "name": "stdout",
     "output_type": "stream",
     "text": [
      "19\n",
      "11\n",
      "60\n",
      "3.75\n",
      "3\n"
     ]
    }
   ],
   "source": [
    "# 23 Build a calculator that takes two numbers and performs addition, subtraction, multiplication, division, and modulus.\n",
    " \n",
    "# Sample Input:\n",
    " \n",
    "# Enter first number: 15\n",
    "# Enter second number: 4\n",
    " \n",
    " \n",
    "# Expected Output:\n",
    " \n",
    "# Addition = 19\n",
    "# Subtraction = 11\n",
    "# Multiplication = 60\n",
    "# Division = 3.75\n",
    "# Modulus = 3\n",
    "x=int(input())\n",
    "y=int(input())\n",
    "print(x+y)\n",
    "print(x-y)\n",
    "print(x*y)\n",
    "print(x/y)\n",
    "print(x%y)"
   ]
  },
  {
   "cell_type": "code",
   "execution_count": null,
   "id": "b30b19e0",
   "metadata": {},
   "outputs": [
    {
     "name": "stdout",
     "output_type": "stream",
     "text": [
      "A\n"
     ]
    }
   ],
   "source": [
    "# 24 A teacher wants a grading system where marks are input, and the grade is displayed.\n",
    " \n",
    "# Sample Input:\n",
    " \n",
    "# Enter marks: 82\n",
    " \n",
    " \n",
    "# Expected Output:\n",
    " \n",
    "# Grade: A (Excellent)\n",
    " \n",
    " \n",
    "# (Rules: >=90 → A+, 80–89 → A, 70–79 → B, 60–69 → C, <60 → Fail)\n",
    "marks=int(input())\n",
    "if(marks >= 90):\n",
    "    print(\"A+\")\n",
    "elif marks >=80 and marks < 90:\n",
    "    print('A')\n",
    "elif marks >= 70 and marks < 80:\n",
    "    print('B')\n",
    "elif marks >= 60 and marks < 70:\n",
    "    print('C')\n",
    "else:\n",
    "    print('Fail')"
   ]
  },
  {
   "cell_type": "code",
   "execution_count": 49,
   "id": "0c2cf95a",
   "metadata": {},
   "outputs": [
    {
     "name": "stdout",
     "output_type": "stream",
     "text": [
      "Highest Marks =  90\n",
      "Lowest Marks =  45\n",
      "Average Marks =  71.4\n"
     ]
    }
   ],
   "source": [
    "# 25 Student Marks List\n",
    "# Scenario: Store marks of 5 students in a list. Display the highest, lowest, and average marks.\n",
    " \n",
    "# Sample Input:\n",
    " \n",
    "# Marks: [45, 78, 88, 56, 90]\n",
    " \n",
    " \n",
    "# Expected Output:\n",
    " \n",
    "# Highest Marks = 90\n",
    "# Lowest Marks = 45\n",
    "# Average Marks = 71.4\n",
    "a=list(map(int,(input().split())))\n",
    "print(\"Highest Marks = \",max(a))\n",
    "print(\"Lowest Marks = \",min(a))\n",
    "print(\"Average Marks = \",sum(a)/5)"
   ]
  },
  {
   "cell_type": "code",
   "execution_count": 54,
   "id": "3c0d61ef",
   "metadata": {},
   "outputs": [
    {
     "name": "stdout",
     "output_type": "stream",
     "text": [
      "7894561230\n"
     ]
    }
   ],
   "source": [
    "# 26 Create a phonebook using a dictionary where names are keys and numbers are values. Allow searching for a number by name.\n",
    " \n",
    "# Sample Input:\n",
    " \n",
    "# Phonebook = {\"Suhel\": 9876543210, \"Ravi\": 9123456780, \"Anita\": 9988776655}\n",
    "# Search Name: Ravi\n",
    " \n",
    " \n",
    "# Expected Output:\n",
    " \n",
    "# Phone Number of Ravi: 9123456780\n",
    "phonebook = {\"Pradeep\": 8585964172, \"Ravi\": 7894561230, \"harsha\": 8529637410}\n",
    "s=input()\n",
    "if s in phonebook:\n",
    "    print(phonebook[s])\n",
    "else:\n",
    "    print('Not found')"
   ]
  },
  {
   "cell_type": "code",
   "execution_count": null,
   "id": "e8daf52b",
   "metadata": {},
   "outputs": [
    {
     "name": "stdout",
     "output_type": "stream",
     "text": [
      "No free delivery\n",
      "Amount to be payed 350\n"
     ]
    }
   ],
   "source": [
    "# 27. Shopping Cart Free Delivery\n",
    "\n",
    "# An e-commerce website gives free delivery if the total cart value is more than ₹500. Otherwise, a delivery charge of ₹50 is applied.\n",
    "# Write a program that takes the cart total as input and prints the final amount payable.\n",
    "cart=int(input())\n",
    "if cart>=500:\n",
    "    print('free delivery')\n",
    "    print('Amount to be payed',cart)\n",
    "else:\n",
    "    print('No free delivery')\n",
    "    print('Amount to be payed',cart+50)"
   ]
  },
  {
   "cell_type": "code",
   "execution_count": 58,
   "id": "03fdf67d",
   "metadata": {},
   "outputs": [
    {
     "name": "stdout",
     "output_type": "stream",
     "text": [
      "Tip =  51.0\n"
     ]
    }
   ],
   "source": [
    "\n",
    "# 28. Restaurant Tip Calculator\n",
    "\n",
    "# A restaurant suggests tips based on the bill:\n",
    "\n",
    "# Less than 500 → 5% tip\n",
    "\n",
    "# 500–1000 → 10% tip\n",
    "\n",
    "# More than 1000 → 15% tip\n",
    "# Write a program that takes the bill amount and prints the tip to be added.\n",
    "bill=int(input())\n",
    "if(bill<=500):\n",
    "    print('Tip = ',bill*0.05)\n",
    "elif bill>500 and bill<=1000:\n",
    "    print(\"Tip = \",bill*0.1)\n",
    "else:\n",
    "    print('Tip = ',bill*0.15)\n"
   ]
  },
  {
   "cell_type": "code",
   "execution_count": 93,
   "id": "856ec6be",
   "metadata": {},
   "outputs": [
    {
     "name": "stdout",
     "output_type": "stream",
     "text": [
      "True False\n"
     ]
    }
   ],
   "source": [
    "my_dict = {\"a\": 1, \"b\": 2}\n",
    "\n",
    "print(\"a\" in my_dict, \"c\" in my_dict)"
   ]
  },
  {
   "cell_type": "code",
   "execution_count": null,
   "id": "861d8414",
   "metadata": {},
   "outputs": [
    {
     "name": "stdout",
     "output_type": "stream",
     "text": [
      "total words =  3\n",
      "total characters =  15\n",
      "total vowels =  6\n"
     ]
    }
   ],
   "source": [
    "# 29 Write a program to count the number of words, characters, and vowels in a sentence.\n",
    "  \n",
    "# Sample Input:\n",
    "\n",
    "# Enter sentence: \"Python is awesome\"\n",
    " \n",
    "# Expected Output:\n",
    " \n",
    "# Total Words = 3\n",
    "# Total Characters = 15\n",
    "# Total Vowels = 6\n",
    "s=input()\n",
    "wcount=ccount=vcount=0\n",
    "l=['a','e','i','o','u']\n",
    "for i in s:\n",
    "    if i==\" \":\n",
    "        wcount+=1\n",
    "    if i.isalpha():\n",
    "        ccount+=1\n",
    "    if i in l:\n",
    "        vcount+=1\n",
    "print('total words = ',wcount+1)\n",
    "print('total characters = ',ccount)\n",
    "print('total vowels = ',vcount)"
   ]
  },
  {
   "cell_type": "code",
   "execution_count": 98,
   "id": "fe1898e4",
   "metadata": {},
   "outputs": [
    {
     "name": "stdout",
     "output_type": "stream",
     "text": [
      "Compound Interest = 512.50\n",
      "Total Amount = 5512.50\n"
     ]
    }
   ],
   "source": [
    "# 30 A bank provides simple interest and compound interest. A user inputs principal, rate, time, and type of interest. Program should calculate accordingly.\n",
    " \n",
    " \n",
    "# Sample Input:\n",
    " \n",
    " \n",
    "# Principal = 5000\n",
    "# Rate = 5\n",
    "# Time = 2\n",
    "# Interest Type = Compound\n",
    " \n",
    " \n",
    " \n",
    "# Expected Output:\n",
    " \n",
    " \n",
    "# Compound Interest = 512.50\n",
    "# Total Amount = 5512.50\n",
    "# Taking inputs\n",
    "principal = float(input(\"Enter Principal: \"))\n",
    "rate = float(input(\"Enter Rate of Interest: \"))\n",
    "time = float(input(\"Enter Time (in years): \"))\n",
    "interest_type = input(\"Enter Interest Type (Simple/Compound): \")\n",
    "\n",
    "# Calculations\n",
    "if interest_type == \"Simple\":\n",
    "    si = (principal * rate * time) / 100\n",
    "    total = principal + si\n",
    "    print(f\"Simple Interest = {si:.2f}\")\n",
    "    print(f\"Total Amount = {total:.2f}\")\n",
    "else:  # Compound Interest\n",
    "    total = principal * (1 + rate / 100) ** time\n",
    "    ci = total - principal\n",
    "    print(f\"Compound Interest = {ci:.2f}\")\n",
    "    print(f\"Total Amount = {total:.2f}\")\n"
   ]
  },
  {
   "cell_type": "code",
   "execution_count": 102,
   "id": "afa1a82c",
   "metadata": {},
   "outputs": [
    {
     "name": "stdout",
     "output_type": "stream",
     "text": [
      "KHOOR"
     ]
    }
   ],
   "source": [
    "# 31 Implement a Caesar Cipher encryption. User inputs a message and a shift key. Program outputs the encrypted text using operators.\n",
    " \n",
    " \n",
    "# Sample Input:\n",
    " \n",
    " \n",
    "# Message = \"HELLO\"\n",
    "# Shift = 3\n",
    " \n",
    " \n",
    " \n",
    "# Expected Output:\n",
    " \n",
    " \n",
    "# Encrypted Message: KHOOR\n",
    "n=input()\n",
    "s=int(input())\n",
    "for i in n:\n",
    "    k=ord(i)+s\n",
    "    print(chr(k), end=\"\")"
   ]
  },
  {
   "cell_type": "code",
   "execution_count": 103,
   "id": "f157ff75",
   "metadata": {},
   "outputs": [
    {
     "name": "stdout",
     "output_type": "stream",
     "text": [
      "PIN Verified.\n",
      "Withdrawal Successful. Remaining Balance = 0.00\n"
     ]
    }
   ],
   "source": [
    "# 32 Build an ATM where users can withdraw money if they have sufficient balance, otherwise display “Insufficient Balance”. Handle PIN verification too.\n",
    " \n",
    " \n",
    "# Sample Input:\n",
    " \n",
    " \n",
    "# PIN = 1234\n",
    "# Balance = 5000\n",
    "# Withdraw = 2000\n",
    " \n",
    " \n",
    " \n",
    "# Expected Output:\n",
    " \n",
    " \n",
    "# PIN Verified.\n",
    "# Withdrawal Successful. Remaining Balance = 3000\n",
    "# Stored correct PIN and balance\n",
    "correct_pin = 1234\n",
    "balance = 5000\n",
    "\n",
    "# User input\n",
    "pin = int(input(\"Enter PIN: \"))\n",
    "\n",
    "if pin == correct_pin:\n",
    "    print(\"PIN Verified.\")\n",
    "    withdraw = float(input(\"Enter withdrawal amount: \"))\n",
    "    \n",
    "    if withdraw <= balance:\n",
    "        balance -= withdraw\n",
    "        print(f\"Withdrawal Successful. Remaining Balance = {balance:.2f}\")\n",
    "    else:\n",
    "        print(\"Insufficient Balance.\")\n",
    "else:\n",
    "    print(\"Incorrect PIN.\")\n"
   ]
  }
 ],
 "metadata": {
  "kernelspec": {
   "display_name": "Python 3",
   "language": "python",
   "name": "python3"
  },
  "language_info": {
   "codemirror_mode": {
    "name": "ipython",
    "version": 3
   },
   "file_extension": ".py",
   "mimetype": "text/x-python",
   "name": "python",
   "nbconvert_exporter": "python",
   "pygments_lexer": "ipython3",
   "version": "3.11.0"
  }
 },
 "nbformat": 4,
 "nbformat_minor": 5
}

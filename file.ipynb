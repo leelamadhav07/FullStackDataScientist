{
 "cells": [
  {
   "cell_type": "code",
   "execution_count": 1,
   "metadata": {},
   "outputs": [
    {
     "name": "stdout",
     "output_type": "stream",
     "text": [
      "hello\n"
     ]
    }
   ],
   "source": [
    "print(\"hello\")"
   ]
  },
  {
   "cell_type": "code",
   "execution_count": 5,
   "metadata": {},
   "outputs": [
    {
     "name": "stdout",
     "output_type": "stream",
     "text": [
      "2 1\n"
     ]
    }
   ],
   "source": [
    "#1.You are developing a small calculator app. Write a program that takes two numbers from the user and swaps them without using a third variable, so users can correct their input order.\n",
    "a=int(input('Enter a'))\n",
    "b=int(input('Enter b'))\n",
    "a,b=b,a\n",
    "print(a,b)"
   ]
  },
  {
   "cell_type": "code",
   "execution_count": 12,
   "metadata": {},
   "outputs": [
    {
     "name": "stdout",
     "output_type": "stream",
     "text": [
      "olleh\n"
     ]
    }
   ],
   "source": [
    "#2.A library wants to build a feature to display book titles backwards for a “mirror view” theme. Write a program that reverses a given string without using slicing.\n",
    "s=input('Enter string')\n",
    "s=list(s)\n",
    "i,j=0,len(s)-1\n",
    "while i<=j :\n",
    "    s[i],s[j]=s[j],s[i]\n",
    "    i+=1\n",
    "    j-=1\n",
    "s=''.join(s)\n",
    "print(s)"
   ]
  },
  {
   "cell_type": "code",
   "execution_count": null,
   "metadata": {},
   "outputs": [
    {
     "name": "stdout",
     "output_type": "stream",
     "text": [
      "Yes\n"
     ]
    }
   ],
   "source": [
    "#3.An ATM machine verifies special numbers before processing transactions. Write a program to check if a number entered by the customer is an Armstrong number.\n",
    "def armstrong(n):\n",
    "    org=n\n",
    "    rem,sum=0,0\n",
    "    while n>0:\n",
    "        rem=n%10\n",
    "        sum+=rem**3\n",
    "        n//=10\n",
    "    return sum==org\n",
    "n=int(input('Enter a number'))\n",
    "if(armstrong(n)):\n",
    "    print('Yes')\n",
    "else:\n",
    "    print('No')\n"
   ]
  },
  {
   "cell_type": "code",
   "execution_count": 17,
   "metadata": {},
   "outputs": [
    {
     "name": "stdout",
     "output_type": "stream",
     "text": [
      "Number of vowels:  3\n",
      "Number of consonants:  2\n"
     ]
    }
   ],
   "source": [
    "#4. A language learning app wants to check how many vowels and consonants a user has typed in a practice sentence. Write a program to count vowels and consonants in a given sentence.\n",
    "s=input('Enter a string')\n",
    "vowels=\"AEIOUaeiou\"\n",
    "vcount,ccount=0,0\n",
    "for i in s:\n",
    "    if(i in vowels):\n",
    "        vcount+=1\n",
    "    else:\n",
    "        ccount+=1\n",
    "print('Number of vowels: ',vcount)\n",
    "print('Number of consonants: ',ccount)"
   ]
  },
  {
   "cell_type": "code",
   "execution_count": 24,
   "metadata": {},
   "outputs": [
    {
     "name": "stdout",
     "output_type": "stream",
     "text": [
      "3  ×  0  =  0\n",
      "3  ×  1  =  3\n",
      "3  ×  2  =  6\n",
      "3  ×  3  =  9\n",
      "3  ×  4  =  12\n",
      "3  ×  5  =  15\n",
      "3  ×  6  =  18\n",
      "3  ×  7  =  21\n",
      "3  ×  8  =  24\n",
      "3  ×  9  =  27\n",
      "3  ×  10  =  30\n"
     ]
    }
   ],
   "source": [
    "#5.In an e-learning platform, when a student inputs a number, the system should generate its multiplication table (up to 10) as practice material. Write a program to do this.\n",
    "n=int(input('Enter a number'))\n",
    "for i in range(11):\n",
    "    print(n,' × ',i,' = ',n*i)\n"
   ]
  },
  {
   "cell_type": "code",
   "execution_count": 27,
   "metadata": {},
   "outputs": [
    {
     "name": "stdout",
     "output_type": "stream",
     "text": [
      "2020  is a leap year\n"
     ]
    }
   ],
   "source": [
    "#6.A travel company checks leap years to calculate special discounts on leap day. Write a program to check if a given year is a leap year.\n",
    "n=int(input('Enter a year'))\n",
    "if n%400 == 0 or (n%4 == 0 and n%100 != 0):\n",
    "    print(n,' is a leap year')\n",
    "else:\n",
    "    print(n,' is not a leap year')"
   ]
  },
  {
   "cell_type": "code",
   "execution_count": 29,
   "metadata": {},
   "outputs": [
    {
     "name": "stdout",
     "output_type": "stream",
     "text": [
      "5\n"
     ]
    }
   ],
   "source": [
    "#7.A gaming app wants to determine the highest score out of 5 attempts. Write a program to take 5 numbers as input and print the largest.\n",
    "list=[]\n",
    "for i in range(5):\n",
    "    j=int(input())\n",
    "    list.append(j)\n",
    "print(max(list))"
   ]
  },
  {
   "cell_type": "code",
   "execution_count": 38,
   "metadata": {},
   "outputs": [
    {
     "name": "stdout",
     "output_type": "stream",
     "text": [
      "madam  is a palindrom\n"
     ]
    }
   ],
   "source": [
    "#8.A healthcare app stores patient IDs and checks if they are palindromes for easy recall. Write a program that checks if a given string ID is a palindrome.\n",
    "s=input()\n",
    "i,j=0,len(s)-1\n",
    "while i<=j:\n",
    "    if(s[i]!=s[j]):\n",
    "        print(s,' not a palindrom')\n",
    "        break\n",
    "    i+=1\n",
    "    j-=1\n",
    "else:\n",
    "    print(s,' is a palindrom')"
   ]
  },
  {
   "cell_type": "code",
   "execution_count": null,
   "metadata": {},
   "outputs": [
    {
     "name": "stdout",
     "output_type": "stream",
     "text": [
      "6\n"
     ]
    }
   ],
   "source": [
    "#9.A factory wants to calculate the number of ways workers can be arranged in a line. Write a program to find the factorial of a number.\n",
    "def fact(n):\n",
    "    # if n==0 or n==1:\n",
    "    #     return n\n",
    "    # else:\n",
    "    #     return n*fact(n-1)\n",
    "    \n",
    "n=int(input())\n",
    "print(fact(n))"
   ]
  }
 ],
 "metadata": {
  "kernelspec": {
   "display_name": "Python 3",
   "language": "python",
   "name": "python3"
  },
  "language_info": {
   "codemirror_mode": {
    "name": "ipython",
    "version": 3
   },
   "file_extension": ".py",
   "mimetype": "text/x-python",
   "name": "python",
   "nbconvert_exporter": "python",
   "pygments_lexer": "ipython3",
   "version": "3.11.0"
  }
 },
 "nbformat": 4,
 "nbformat_minor": 2
}

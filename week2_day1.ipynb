{
 "cells": [
  {
   "cell_type": "code",
   "execution_count": 4,
   "id": "0e404550",
   "metadata": {},
   "outputs": [
    {
     "name": "stdout",
     "output_type": "stream",
     "text": [
      "[2, 3, 5, 7, 11, 13, 17, 19]\n"
     ]
    }
   ],
   "source": [
    "# #1. Prime Number Finder * Function that returns all prime numbers up to `n`.\n",
    "#    * Input: `n = 20`\n",
    "#    * Output: `[2, 3, 5, 7, 11, 13, 17, 19]`\n",
    "import math as m\n",
    "def prime_no(n):\n",
    "    li=[]\n",
    "    if n < 2:\n",
    "        return []\n",
    "    else:\n",
    "        for num in range(2,n+1):\n",
    "            is_prime=True\n",
    "            for i in range(2,int(m.sqrt(num)) +1):\n",
    "                if(num%i == 0):\n",
    "                    is_prime=False\n",
    "                    break\n",
    "            if is_prime:\n",
    "                li.append(num)\n",
    "        return li\n",
    "n=int(input('Enter a number'))\n",
    "print(prime_no(n))\n"
   ]
  },
  {
   "cell_type": "code",
   "execution_count": 3,
   "id": "2248cfd8",
   "metadata": {},
   "outputs": [
    {
     "name": "stdout",
     "output_type": "stream",
     "text": [
      "Not a palindrom\n"
     ]
    }
   ],
   "source": [
    "# 2. Palindrome Checker\n",
    " \n",
    "#    * Check if a string is palindrome (ignoring spaces & case).\n",
    "#    * Input: `\"Never odd or even\"`\n",
    "#    * Output: `True`\n",
    "s=input('enter a string')\n",
    "s=\"\".join(s.lower().split())\n",
    "i,j=0,len(s)-1\n",
    "while(i<=j):\n",
    "    if(s[i] != s[j]):\n",
    "        print('Not a palindrom')\n",
    "        break\n",
    "    i+=1\n",
    "    j-=1\n",
    "else:\n",
    "    print('yes it is a palindrom')"
   ]
  },
  {
   "cell_type": "code",
   "execution_count": 1,
   "id": "85affdd4",
   "metadata": {},
   "outputs": [
    {
     "name": "stdout",
     "output_type": "stream",
     "text": [
      "Both are Anagrams\n"
     ]
    }
   ],
   "source": [
    "# 3. Anagram Checker\n",
    " \n",
    "#    * Function checks if two words are anagrams.\n",
    "#    * Input: `\"listen\", \"silent\"`\n",
    "#    * Output: `True`\n",
    "from collections import Counter\n",
    "a,b=map(str,input().split())\n",
    "if(Counter(a) == Counter(b)):\n",
    "    print('Both are Anagrams')\n",
    "else:\n",
    "    print('Not Anagrams')"
   ]
  },
  {
   "cell_type": "code",
   "execution_count": 2,
   "id": "c03cc76b",
   "metadata": {},
   "outputs": [
    {
     "name": "stdout",
     "output_type": "stream",
     "text": [
      "Vowels = 2\n",
      "Consonants = 3\n"
     ]
    }
   ],
   "source": [
    "# 4. Count Vowels & Consonants\n",
    " \n",
    "#    * Return count of vowels & consonants.\n",
    "#    * Input: `\"hello\"`\n",
    "#    * Output: `Vowels=2, Consonants=3`\n",
    "s=input('Enter a string')\n",
    "li=['a','e','i','o','u']\n",
    "vcount=ccount=0\n",
    "for i in s:\n",
    "    if i in li:\n",
    "        vcount+=1\n",
    "    else:\n",
    "        ccount+=1\n",
    "print('Vowels =' , vcount)\n",
    "print('Consonants =', ccount)"
   ]
  },
  {
   "cell_type": "code",
   "execution_count": 6,
   "id": "9e80b1cf",
   "metadata": {},
   "outputs": [
    {
     "name": "stdout",
     "output_type": "stream",
     "text": [
      "madhav\n"
     ]
    }
   ],
   "source": [
    "# 5. Longest Word Finder\n",
    " \n",
    "# * Return longest word in a sentence.\n",
    "# * Input: `\"Python is amazing\"`\n",
    "# * Output: `\"amazing\"`\n",
    "text = input('Enter a string: ')\n",
    "li = text.split()\n",
    "max1 = 0\n",
    "res = \"\"\n",
    "\n",
    "for word in li:\n",
    "    length = len(word)\n",
    "    if length > max1:\n",
    "        max1 = length\n",
    "        res = word\n",
    "\n",
    "print(res)\n",
    "\n",
    "    "
   ]
  },
  {
   "cell_type": "code",
   "execution_count": null,
   "id": "b2d76c26",
   "metadata": {},
   "outputs": [
    {
     "name": "stdout",
     "output_type": "stream",
     "text": [
      "9b7Q.4\n"
     ]
    }
   ],
   "source": [
    "# Python Modules (5 challenges)\n",
    "# 1. Random Password Generator (`random`, `string`)\n",
    "# * Input: `length=6`\n",
    "# * Output: `\"aB9@xQ\"`\n",
    "import random\n",
    "import string\n",
    "def generate_password(length=6):\n",
    "    characters = string.ascii_letters + string.digits + string.punctuation\n",
    "    password = ''.join(random.choice(characters) for _ in range(length))\n",
    "    return password\n",
    "length = int(input(\"Enter password length: \"))\n",
    "print(generate_password(length))"
   ]
  },
  {
   "cell_type": "code",
   "execution_count": 14,
   "id": "860d5191",
   "metadata": {},
   "outputs": [
    {
     "name": "stdout",
     "output_type": "stream",
     "text": [
      "6.123233995736766e-17\n"
     ]
    }
   ],
   "source": [
    "# 2. Simple Calculator with `math`\n",
    " \n",
    "# * Perform sqrt, factorial, sin, cos.\n",
    "# * Input: `sqrt(25)`\n",
    "# * Output: `5.0`\n",
    "import math as m\n",
    "operation=input('Enter any operation sin,cos,factorial,sqrt').strip().lower()\n",
    "n=float(input('Enter a number'))\n",
    "if operation == 'sqrt':\n",
    "    print(m.sqrt(n))\n",
    "elif operation == 'factorial':\n",
    "    print(m.factorial(int(n)))\n",
    "elif operation == 'sin':\n",
    "    print(m.sin(m.radians(n)))\n",
    "elif operation == 'cos':\n",
    "    print(m.cos(m.radians(n)))\n",
    "else:\n",
    "    print('Invalid Opeartion')"
   ]
  },
  {
   "cell_type": "code",
   "execution_count": 18,
   "id": "15ae6875",
   "metadata": {},
   "outputs": [
    {
     "name": "stdout",
     "output_type": "stream",
     "text": [
      "Counter({'cat': 3})\n"
     ]
    }
   ],
   "source": [
    "# 3. Word Frequency Counter (`collections.Counter`)\n",
    " \n",
    "# * Input: `\"cat dog cat\"`\n",
    "# * Output: `{'cat':2,'dog':1}`\n",
    "from collections import Counter\n",
    "words=input('Enter string').split()\n",
    "print(Counter(words))"
   ]
  },
  {
   "cell_type": "code",
   "execution_count": 21,
   "id": "1b6fbf39",
   "metadata": {},
   "outputs": [
    {
     "name": "stdout",
     "output_type": "stream",
     "text": [
      "Weather : Cloudy , temp: 21\n"
     ]
    }
   ],
   "source": [
    "# 4. Weather Simulator (`random`)\n",
    " \n",
    "# * Input: None\n",
    "# * Output: `\"Weather: Sunny, Temp: 32°C\"`\n",
    "import random\n",
    "temp=[i for i in range(10,49)]\n",
    "words=[\"Sunny\",\"Cloudy\",\"Rainy\",\"Windy\"]\n",
    "print('Weather :',random.choice(words),\", temp:\",random.choice(temp))"
   ]
  },
  {
   "cell_type": "code",
   "execution_count": 23,
   "id": "e5b80210",
   "metadata": {},
   "outputs": [
    {
     "name": "stdout",
     "output_type": "stream",
     "text": [
      "5\n",
      "4\n",
      "3\n",
      "2\n",
      "1\n",
      "Times Up\n"
     ]
    }
   ],
   "source": [
    "# 5. Timer Program (`time`)\n",
    " \n",
    "# * Input: `countdown(5)`\n",
    "# * Output:\n",
    " \n",
    "#   ```\n",
    "#   5  \n",
    "#   4  \n",
    "#   3  \n",
    "#   2  \n",
    "#   1  \n",
    "#   Time’s up!\n",
    "#   ```\n",
    "import time\n",
    "n=int(input())\n",
    "for i in range(n,0,-1):\n",
    "    print(i)\n",
    "    time.sleep(1)\n",
    "print('Times Up')"
   ]
  },
  {
   "cell_type": "code",
   "execution_count": 24,
   "id": "c90b9276",
   "metadata": {},
   "outputs": [
    {
     "name": "stdout",
     "output_type": "stream",
     "text": [
      "Deposited: 50\n",
      "Withdrawn: 30\n",
      "balance: 120\n"
     ]
    }
   ],
   "source": [
    "# Python OOPs (5 challenges)\n",
    "# 1. Bank Account Class\n",
    "# Attributes:\n",
    "# * balance → stores the current money in the account\n",
    "# * owner (optional) → name of account holder\n",
    "# Methods:\n",
    "# * deposit(amount) → adds money to balance\n",
    "# * withdraw(amount) → subtracts money if enough funds\n",
    "# * get_balance() → returns balance\n",
    "# Example:\n",
    "# python\n",
    "# acc = BankAccount(100)   # initial balance = 100\n",
    "# acc.deposit(50)          # balance = 150\n",
    "# acc.withdraw(30)         # balance = 120\n",
    "# print(acc.get_balance()) \n",
    "# Output:\n",
    "# Balance: 120\n",
    "class BankAccount:\n",
    "    def __init__(self,balance=0,owner=None):\n",
    "        self.balance=balance\n",
    "        self.owner=owner\n",
    "    def deposit(self,amount):\n",
    "        if amount > 0:\n",
    "            self.balance += amount\n",
    "            print(f\"Deposited: {amount}\")\n",
    "        else:\n",
    "            print(\"Deposit amount must be positive.\")\n",
    "    def withdraw(self,amount):\n",
    "        if amount <= self.balance:\n",
    "            self.balance-=amount\n",
    "            print(f'Withdrawn: {amount}')\n",
    "        else:\n",
    "            print('Insufficient balance')\n",
    "    def get_balance(self):\n",
    "        return f\"balance: {self.balance}\"\n",
    "acc = BankAccount(100, \"Alice\")\n",
    "acc.deposit(50)      \n",
    "acc.withdraw(30)     \n",
    "print(acc.get_balance())  "
   ]
  },
  {
   "cell_type": "code",
   "execution_count": 26,
   "id": "850d08ff",
   "metadata": {},
   "outputs": [
    {
     "name": "stdout",
     "output_type": "stream",
     "text": [
      "85.0\n",
      "95\n"
     ]
    }
   ],
   "source": [
    "# 2. Student Class with Average\n",
    "# Attributes: \n",
    "# * name → student name\n",
    "# * marks → list of student marks [90, 80, 85]\n",
    "# Methods:\n",
    "# * get_average() → returns average marks\n",
    "# * add_mark(mark) → add new score\n",
    "# * get_highest() → return highest mark\n",
    "# * get_lowest() → return lowest mark\n",
    "# Example:\n",
    "# python\n",
    "# s = Student(\"Tom\", [90, 80, 85])\n",
    "# print(s.get_average())   # (90+80+85)/3 = 85.0\n",
    "# s.add_mark(95)           # marks = [90,80,85,95]\n",
    "# print(s.get_highest())   # 95\n",
    "# Output:\n",
    "# 85.0\n",
    "# 95\n",
    "class Student:\n",
    "    def __init__(self,name=None,marks=None):\n",
    "        if marks is None:\n",
    "            marks=[]\n",
    "        self.name=name\n",
    "        self.marks=marks\n",
    "    def get_average(self):\n",
    "        return sum(self.marks)/len(self.marks)\n",
    "    def add_mark(self,mark):\n",
    "        self.marks.append(mark)\n",
    "    def get_highest(self):\n",
    "        return max(self.marks)\n",
    "    def get_lowest(self):\n",
    "        return min(self.marks)\n",
    "s=Student(\"Leela\",[90, 80, 85])\n",
    "print(s.get_average())\n",
    "s.add_mark(95)\n",
    "print(s.get_highest())"
   ]
  },
  {
   "cell_type": "code",
   "execution_count": 27,
   "id": "620dc2ed",
   "metadata": {},
   "outputs": [
    {
     "name": "stdout",
     "output_type": "stream",
     "text": [
      "10000.0\n"
     ]
    }
   ],
   "source": [
    "# 3. Employee Bonus System\n",
    "# Attributes:\n",
    "# * name → employee name\n",
    "# * salary → base salary\n",
    "# * role → role of employee (e.g., Manager, Developer, Intern)\n",
    "# Methods:\n",
    "# * bonus() → calculates bonus depending on role:\n",
    "#   * Manager → 20% of salary\n",
    "#   * Developer → 10% of salary\n",
    "#   * Intern → 5% of salary\n",
    "# Example:\n",
    "# python\n",
    "# m = Manager(\"Alice\", 50000)\n",
    "# print(m.bonus())\n",
    "# Output:\n",
    "# 10000\n",
    "class Employee:\n",
    "    def __init__(self,name,salary):\n",
    "        self.name=name\n",
    "        self.salary=salary\n",
    "    def bonus(self):\n",
    "        return 0\n",
    "class Manager(Employee):\n",
    "    def bonus(self):\n",
    "        return self.salary * 0.20\n",
    "class Developer(Employee):\n",
    "    def bonus(self):\n",
    "        return self.salary * 0.10\n",
    "class Intern(Employee):\n",
    "    def bonus(self):\n",
    "        return self.salary * 0.05\n",
    "m = Manager(\"Alice\", 50000)\n",
    "print(m.bonus())\n"
   ]
  },
  {
   "cell_type": "code",
   "execution_count": null,
   "id": "0e0b54da",
   "metadata": {},
   "outputs": [
    {
     "name": "stdout",
     "output_type": "stream",
     "text": [
      "153.94\n",
      "20\n"
     ]
    }
   ],
   "source": [
    "# 4. Shape Area Calculator\n",
    "# Base Class (Shape):\n",
    "# *Attribute: name\n",
    "# *Method: area() → to be overridden by subclasses\n",
    "# Subclasses:\n",
    "# * Circle(radius) → area = π × r²\n",
    "# * Rectangle(width, height) → area = width × height\n",
    "# Example:\n",
    "# python\n",
    "# c = Circle(7)\n",
    "# print(c.area())\n",
    "# r = Rectangle(4, 5)\n",
    "# print(r.area())\n",
    "# Output:\n",
    "# 153.94\n",
    "# 20\n",
    "import math\n",
    "class Shape:\n",
    "    def __init__(self,name):\n",
    "        self.name=name\n",
    "    def area(self):\n",
    "        return 0\n",
    "class Circle(Shape):\n",
    "    def __init__(self,radius):\n",
    "        super().__init__(\"Circle\")\n",
    "        self.radius=radius\n",
    "    def area(self):\n",
    "        return round(math.pi * self.radius ** 2,2)\n",
    "class Rectangle(Shape):\n",
    "    def __init__(self, width, height):\n",
    "        super().__init__(\"Rectangle\")\n",
    "        self.width = width\n",
    "        self.height = height\n",
    "    def area(self):\n",
    "        return self.width * self.height\n",
    "c = Circle(7)\n",
    "print(c.area())  \n",
    "r = Rectangle(4, 5)\n",
    "print(r.area())"
   ]
  },
  {
   "cell_type": "code",
   "execution_count": null,
   "id": "0523907e",
   "metadata": {},
   "outputs": [
    {
     "name": "stdout",
     "output_type": "stream",
     "text": [
      "Added Shirt for 500\n",
      "Added Shoes for 1500\n",
      "Items in order:\n",
      "Shirt: 500\n",
      "Shoes: 1500\n",
      "Total = 2000\n"
     ]
    }
   ],
   "source": [
    "# 5. E-commerce Order Class\n",
    "# Attributes:\n",
    "# * items → dictionary of items {name: price}\n",
    "# Methods:\n",
    "# * add(item, price) → adds an item to order\n",
    "# * remove(item) → removes item\n",
    "# * calculate_total() → returns total price of all items\n",
    "# * show_items() → lists all items in order\n",
    "# Example:\n",
    "# python\n",
    "# order = Order()\n",
    "# order.add(\"Shirt\", 500)\n",
    "# order.add(\"Shoes\", 1500)\n",
    "# print(order.calculate_total())\n",
    "# Output:\n",
    "# Total = 2000\n",
    "class Order:\n",
    "    def __init__(self):\n",
    "        self.items = {} \n",
    "\n",
    "    def add(self, item, price):\n",
    "        self.items[item] = price\n",
    "        print(f\"Added {item} for {price}\")\n",
    "\n",
    "    def remove(self, item):\n",
    "        if item in self.items:\n",
    "            del self.items[item]\n",
    "            print(f\"Removed {item}\")\n",
    "        else:\n",
    "            print(f\"{item} not found in order\")\n",
    "\n",
    "    def calculate_total(self):\n",
    "        return f\"Total = {sum(self.items.values())}\"\n",
    "\n",
    "    def show_items(self):\n",
    "        if not self.items:\n",
    "            print(\"No items in the order.\")\n",
    "        else:\n",
    "            print(\"Items in order:\")\n",
    "            for item, price in self.items.items():\n",
    "                print(f\"{item}: {price}\")\n",
    "order = Order()\n",
    "order.add(\"Shirt\", 500)\n",
    "order.add(\"Shoes\", 1500)\n",
    "order.show_items()\n",
    "print(order.calculate_total()) \n"
   ]
  },
  {
   "cell_type": "code",
   "execution_count": 32,
   "id": "cdb3c79c",
   "metadata": {},
   "outputs": [
    {
     "name": "stdout",
     "output_type": "stream",
     "text": [
      "[0, 1, 1, 2, 3, 5, 8]\n"
     ]
    }
   ],
   "source": [
    "# 1. Fibonacci Generator\n",
    "# * Function generates n Fibonacci numbers.\n",
    "# * Input: n = 7\n",
    "# * Output: [0, 1, 1, 2, 3, 5, 8]\n",
    "def fibo(n):\n",
    "    if n <= 0:\n",
    "        return []\n",
    "    elif n == 1:\n",
    "        return [0]\n",
    "    li = [0, 1]\n",
    "    for _ in range(2, n):\n",
    "        li.append(li[-1] + li[-2])\n",
    "    return li\n",
    "n = int(input('Enter a number: '))\n",
    "print(fibo(n))\n"
   ]
  },
  {
   "cell_type": "code",
   "execution_count": 33,
   "id": "8f478a88",
   "metadata": {},
   "outputs": [
    {
     "name": "stdout",
     "output_type": "stream",
     "text": [
      "120\n"
     ]
    }
   ],
   "source": [
    "# 2. Factorial Using Recursion\n",
    "# * Compute factorial using recursion. \n",
    "# * Input: 5\n",
    "# * Output: 120\n",
    "def fact(n):\n",
    "    if(n==0 or n==1):\n",
    "        return 1\n",
    "    return n*fact(n-1)\n",
    "n=int(input())\n",
    "print(fact(n))"
   ]
  },
  {
   "cell_type": "code",
   "execution_count": 35,
   "id": "ad2b7170",
   "metadata": {},
   "outputs": [
    {
     "name": "stdout",
     "output_type": "stream",
     "text": [
      "{'apple': 2, 'banana': 2, 'orange': 1}\n"
     ]
    }
   ],
   "source": [
    "# 3. Unique Words Counter\n",
    "# * Return unique words in a sentence.\n",
    "# * Input: \"apple banana apple orange banana\"\n",
    "# * Output: {'apple':2,'banana':2,'orange':1}\n",
    "from collections import Counter\n",
    "s=input()\n",
    "c=Counter(s.split())\n",
    "print(dict(c))"
   ]
  },
  {
   "cell_type": "code",
   "execution_count": 36,
   "id": "5b43013e",
   "metadata": {},
   "outputs": [
    {
     "name": "stdout",
     "output_type": "stream",
     "text": [
      "Grade: A\n"
     ]
    }
   ],
   "source": [
    "# 4. Grade Calculator\n",
    "# * Function takes marks and returns grade.\n",
    "# * Input: [85, 90, 78]\n",
    "# * Output: \"Grade: A\"\n",
    "def calculate_grade(marks):\n",
    "    if not marks:\n",
    "        return \"No marks provided\"\n",
    "\n",
    "    avg = sum(marks) / len(marks)\n",
    "\n",
    "    if avg >= 90:\n",
    "        grade = \"A+\"\n",
    "    elif avg >= 80:\n",
    "        grade = \"A\"\n",
    "    elif avg >= 70:\n",
    "        grade = \"B\"\n",
    "    elif avg >= 60:\n",
    "        grade = \"C\"\n",
    "    elif avg >= 50:\n",
    "        grade = \"D\"\n",
    "    else:\n",
    "        grade = \"F\"\n",
    "\n",
    "    return f\"Grade: {grade}\"\n",
    "marks = [85, 90, 78]\n",
    "print(calculate_grade(marks)) \n",
    "\n"
   ]
  },
  {
   "cell_type": "code",
   "execution_count": 39,
   "id": "42124db1",
   "metadata": {},
   "outputs": [
    {
     "name": "stdout",
     "output_type": "stream",
     "text": [
      "10\n"
     ]
    }
   ],
   "source": [
    "# 5. Second Largest Number\n",
    "# * Return 2nd largest number from a list.\n",
    "# * Input: [10, 5, 20, 8]\n",
    "# * Output: 10\n",
    "def second_largest(numbers):\n",
    "    if len(numbers) < 2:\n",
    "        return None\n",
    "    unique_nums = list(set(numbers))  \n",
    "    unique_nums.sort(reverse=True)   \n",
    "    if len(unique_nums) < 2:\n",
    "        return None  \n",
    "    return unique_nums[1]\n",
    "nums = [10, 5, 20, 8]\n",
    "print(second_largest(nums))  \n"
   ]
  },
  {
   "cell_type": "code",
   "execution_count": 41,
   "id": "f136b836",
   "metadata": {},
   "outputs": [
    {
     "name": "stdout",
     "output_type": "stream",
     "text": [
      "Text files: 2\n",
      "Python files: 2\n"
     ]
    }
   ],
   "source": [
    "# ## Python Modules ( 5 challenges)\n",
    "# 1. os → Count Files by Extension\n",
    "# Write a program using os to count how many .txt and .py files are in the current directory.\n",
    "# Sample Input (files in folder):\n",
    "# [\"notes.txt\", \"app.py\", \"data.csv\", \"report.txt\", \"main.py\"]\n",
    "# Sample Output: \n",
    "# Text files: 2\n",
    "# Python files: 2\n",
    "def count_files_from_input():\n",
    "    files = list(map(str, input(\"Enter filenames separated by space: \").split()))\n",
    "    text_count = sum(1 for f in files if f.lower().endswith(\".txt\"))\n",
    "    python_count = sum(1 for f in files if f.lower().endswith(\".py\"))\n",
    "    print(f\"Text files: {text_count}\")\n",
    "    print(f\"Python files: {python_count}\")\n",
    "count_files_from_input()"
   ]
  },
  {
   "cell_type": "code",
   "execution_count": 43,
   "id": "02904743",
   "metadata": {},
   "outputs": [
    {
     "name": "stdout",
     "output_type": "stream",
     "text": [
      "Mean = 87.86\n",
      "Median = 90\n"
     ]
    }
   ],
   "source": [
    "# 2. statistics → Exam Score Analysis\n",
    "# Use statistics to calculate the mean, median, and variance of student exam scores. \n",
    "# Sample Input:\n",
    "# Scores = [75, 80, 90, 100, 85, 90, 95]\n",
    "# Sample Output:\n",
    "# Mean = 88.57\n",
    "# Median = 90\n",
    "import statistics\n",
    "scores = list(map(int, input(\"Enter scores separated by space: \").split()))\n",
    "mean_score = round(statistics.mean(scores), 2)\n",
    "median_score = statistics.median(scores)\n",
    "print(f\"Mean = {mean_score}\")\n",
    "print(f\"Median = {median_score}\")\n"
   ]
  },
  {
   "cell_type": "code",
   "execution_count": 45,
   "id": "39364c05",
   "metadata": {},
   "outputs": [
    {
     "name": "stdout",
     "output_type": "stream",
     "text": [
      "Roots are: 2.0 and 1.0\n"
     ]
    }
   ],
   "source": [
    "# 3. math → Quadratic Equation Solver\n",
    "# Use the math module to solve quadratic equations of the form ax² + bx + c = 0.\n",
    "# Sample Input:\n",
    "# a = 1, b = -3, c = 2\n",
    "# Sample Output: \n",
    "# Roots are: 1.0 and 2.0\n",
    "import math\n",
    "def solve_quadratic(a, b, c):\n",
    "    d = b**2 - 4*a*c\n",
    "    if d < 0:\n",
    "        print(\"No real roots\")\n",
    "    elif d == 0:\n",
    "        root = -b / (2*a)\n",
    "        print(f\"Root is: {root}\")\n",
    "    else:\n",
    "        root1 = (-b + math.sqrt(d)) / (2*a)\n",
    "        root2 = (-b - math.sqrt(d)) / (2*a)\n",
    "        print(f\"Roots are: {root1} and {root2}\")\n",
    "a, b, c = map(float, input(\"Enter a, b, c separated by space: \").split())\n",
    "solve_quadratic(a, b, c)\n"
   ]
  },
  {
   "cell_type": "code",
   "execution_count": 51,
   "id": "c7312ab7",
   "metadata": {},
   "outputs": [
    {
     "name": "stdout",
     "output_type": "stream",
     "text": [
      "You chose Paper, Computer chose Scissors\n",
      "You Lose!\n"
     ]
    }
   ],
   "source": [
    "# 4. random → Rock Paper Scissors Game\n",
    "# Use random.choice() to let the computer play Rock–Paper–Scissors against the user.\n",
    "# Sample Input:\n",
    "# User: Rock\n",
    "# Computer (random): Scissors\n",
    "# Sample Output:\n",
    "# You chose Rock, Computer chose Scissors\n",
    "# You Win!\n",
    "import random\n",
    "def rock_paper_scissors():\n",
    "    choices = [\"rock\", \"paper\", \"scissors\"]\n",
    "    user_choice = input(\"Enter Rock, Paper, or Scissors: \").strip().lower()\n",
    "    if user_choice not in choices:\n",
    "        print(\"Invalid choice! Please choose Rock, Paper, or Scissors.\")\n",
    "        return\n",
    "    computer_choice = random.choice(choices)\n",
    "    print(f\"You chose {user_choice.capitalize()}, Computer chose {computer_choice.capitalize()}\")\n",
    "    if user_choice == computer_choice:\n",
    "        print(\"It's a Tie!\")\n",
    "    elif (\n",
    "        (user_choice == \"rock\" and computer_choice == \"scissors\") or\n",
    "        (user_choice == \"paper\" and computer_choice == \"rock\") or\n",
    "        (user_choice == \"scissors\" and computer_choice == \"paper\")\n",
    "    ):\n",
    "        print(\"You Win!\")\n",
    "    else:\n",
    "        print(\"You Lose!\")\n",
    "rock_paper_scissors()\n",
    "\n"
   ]
  },
  {
   "cell_type": "code",
   "execution_count": 53,
   "id": "88fd7eac",
   "metadata": {},
   "outputs": [
    {
     "name": "stdout",
     "output_type": "stream",
     "text": [
      "Sum = 30\n"
     ]
    }
   ],
   "source": [
    "# 5. sys → Sum from Command Line\n",
    "# Write a program using sys.argv to take three numbers from the command line and print their sum.\n",
    "# Sample Input (command line):\n",
    "# python add.py 5 10 15\n",
    "# Sample Output:\n",
    "# Sum = 30\n",
    "import sys\n",
    "sys.argv = [\"add.py\", \"5\", \"10\", \"15\"]\n",
    "if len(sys.argv) != 4:\n",
    "    print(\"Usage: python add.py num1 num2 num3\")\n",
    "else:\n",
    "    try:\n",
    "        numbers = list(map(int, sys.argv[1:]))\n",
    "        total = sum(numbers)\n",
    "        print(f\"Sum = {total}\")\n",
    "    except ValueError:\n",
    "        print(\"Please enter only numbers.\")\n"
   ]
  },
  {
   "cell_type": "code",
   "execution_count": 54,
   "id": "83051504",
   "metadata": {},
   "outputs": [
    {
     "name": "stdout",
     "output_type": "stream",
     "text": [
      "You borrowed Python 101\n",
      "You returned Python 101\n",
      "Available books: {'Python 101': 3, 'Data Science': 2}\n"
     ]
    }
   ],
   "source": [
    "# Python OOPs (5 challenges)\n",
    "# ### 1. Library System\n",
    "# Create a Library class with:\n",
    "# *Attributes: books (dict with book title → copies available)\n",
    "# *Methods:\n",
    "# * borrow(title) → decreases stock if available\n",
    "# * return_book(title) → increases stock\n",
    "# * show_books() → prints all available books\n",
    "# Sample Input:\n",
    "# python\n",
    "# lib = Library({\"Python 101\": 3, \"Data Science\": 2})\n",
    "# print(lib.borrow(\"Python 101\"))\n",
    "# print(lib.return_book(\"Python 101\"))\n",
    "# lib.show_books()\n",
    "# Sample Output:\n",
    "# You borrowed Python 101\n",
    "# You returned Python 101\n",
    "# Available books: {'Python 101': 3, 'Data Science': 2}\n",
    "class Library:\n",
    "    def __init__(self, books=None):\n",
    "        # Initialize books dictionary\n",
    "        if books is None:\n",
    "            books = {}\n",
    "        self.books = books\n",
    "    def borrow(self, title):\n",
    "        if title in self.books and self.books[title] > 0:\n",
    "            self.books[title] -= 1\n",
    "            return f\"You borrowed {title}\"\n",
    "        elif title in self.books:\n",
    "            return f\"Sorry, {title} is out of stock\"\n",
    "        else:\n",
    "            return f\"{title} not found in library\"\n",
    "    def return_book(self, title):\n",
    "        if title in self.books:\n",
    "            self.books[title] += 1\n",
    "        else:\n",
    "            self.books[title] = 1\n",
    "        return f\"You returned {title}\"\n",
    "    def show_books(self):\n",
    "        print(f\"Available books: {self.books}\")\n",
    "lib = Library({\"Python 101\": 3, \"Data Science\": 2})\n",
    "print(lib.borrow(\"Python 101\"))   \n",
    "print(lib.return_book(\"Python 101\"))  \n",
    "lib.show_books()                   "
   ]
  },
  {
   "cell_type": "code",
   "execution_count": 55,
   "id": "c063de99",
   "metadata": {},
   "outputs": [
    {
     "name": "stdout",
     "output_type": "stream",
     "text": [
      "Access Granted\n",
      "Deposited 200\n",
      "Withdrew 100\n",
      "Balance: 600\n"
     ]
    }
   ],
   "source": [
    "# ### 2. ATM Machine with PIN\n",
    "# Create an ATM class with:\n",
    "# *Attributes: balance, pin, is_authenticated\n",
    "# *Methods:\n",
    "# * login(pin) → checks PIN\n",
    "# * check_balance()\n",
    "# * deposit(amount)\n",
    "# * withdraw(amount)\n",
    "# Sample Input:\n",
    "# python\n",
    "# atm = ATM(1234, 500)\n",
    "# print(atm.login(1234))\n",
    "# print(atm.deposit(200))\n",
    "# print(atm.withdraw(100))\n",
    "# print(atm.check_balance())\n",
    "# Sample Output:\n",
    "# Access Granted\n",
    "# Deposited 200\n",
    "# Withdrew 100\n",
    "# Balance: 600\n",
    "class ATM:\n",
    "    def __init__(self, pin, balance=0):\n",
    "        self.pin = pin\n",
    "        self.balance = balance\n",
    "        self.is_authenticated = False\n",
    "    def login(self, entered_pin):\n",
    "        if entered_pin == self.pin:\n",
    "            self.is_authenticated = True\n",
    "            return \"Access Granted\"\n",
    "        else:\n",
    "            self.is_authenticated = False\n",
    "            return \"Access Denied\"\n",
    "    def check_balance(self):\n",
    "        if self.is_authenticated:\n",
    "            return f\"Balance: {self.balance}\"\n",
    "        else:\n",
    "            return \"Please login first\"\n",
    "    def deposit(self, amount):\n",
    "        if self.is_authenticated:\n",
    "            if amount > 0:\n",
    "                self.balance += amount\n",
    "                return f\"Deposited {amount}\"\n",
    "            else:\n",
    "                return \"Deposit amount must be positive\"\n",
    "        else:\n",
    "            return \"Please login first\"\n",
    "\n",
    "    def withdraw(self, amount):\n",
    "        if self.is_authenticated:\n",
    "            if 0 < amount <= self.balance:\n",
    "                self.balance -= amount\n",
    "                return f\"Withdrew {amount}\"\n",
    "            elif amount > self.balance:\n",
    "                return \"Insufficient funds\"\n",
    "            else:\n",
    "                return \"Withdrawal amount must be positive\"\n",
    "        else:\n",
    "            return \"Please login first\"\n",
    "atm = ATM(1234, 500)\n",
    "print(atm.login(1234))        \n",
    "print(atm.deposit(200))      \n",
    "print(atm.withdraw(100))     \n",
    "print(atm.check_balance())   \n",
    "\n",
    "\n"
   ]
  },
  {
   "cell_type": "code",
   "execution_count": 56,
   "id": "5ffe9faa",
   "metadata": {},
   "outputs": [
    {
     "name": "stdout",
     "output_type": "stream",
     "text": [
      "Dr. Smith is teaching Python\n",
      "Alice enrolled in Python\n",
      "Dr. Smith assigned: Project 1\n",
      "Alice submitted: Project 1\n"
     ]
    }
   ],
   "source": [
    "# 3. University System\n",
    "# Create Professor and Student classes.\n",
    "# *Professor Attributes: name, subject\n",
    "# *Professor Methods: teach(course), give_assignment(task)\n",
    "# *Student Attributes: name, courses, assignments\n",
    "# *Student Methods: enroll(course), submit_assignment(task)\n",
    "# Sample Input:\n",
    "# python\n",
    "# prof = Professor(\"Dr. Smith\", \"Computer Science\")\n",
    "# stud = Student(\"Alice\")\n",
    "# print(prof.teach(\"Python\"))\n",
    "# print(stud.enroll(\"Python\"))\n",
    "# print(prof.give_assignment(\"Project 1\"))\n",
    "# print(stud.submit_assignment(\"Project 1\"))\n",
    "# Sample Output:\n",
    "# Dr. Smith is teaching Python\n",
    "# Alice enrolled in Python\n",
    "# Dr. Smith assigned: Project 1\n",
    "# Alice submitted: Project 1\n",
    "class Professor:\n",
    "    def __init__(self, name, subject):\n",
    "        self.name = name\n",
    "        self.subject = subject\n",
    "\n",
    "    def teach(self, course):\n",
    "        return f\"{self.name} is teaching {course}\"\n",
    "\n",
    "    def give_assignment(self, task):\n",
    "        return f\"{self.name} assigned: {task}\"\n",
    "\n",
    "\n",
    "class Student:\n",
    "    def __init__(self, name):\n",
    "        self.name = name\n",
    "        self.courses = []\n",
    "        self.assignments = []\n",
    "\n",
    "    def enroll(self, course):\n",
    "        self.courses.append(course)\n",
    "        return f\"{self.name} enrolled in {course}\"\n",
    "\n",
    "    def submit_assignment(self, task):\n",
    "        self.assignments.append(task)\n",
    "        return f\"{self.name} submitted: {task}\"\n",
    "\n",
    "\n",
    "prof = Professor(\"Dr. Smith\", \"Computer Science\")\n",
    "stud = Student(\"Alice\")\n",
    "\n",
    "print(prof.teach(\"Python\"))\n",
    "print(stud.enroll(\"Python\"))\n",
    "print(prof.give_assignment(\"Project 1\"))\n",
    "print(stud.submit_assignment(\"Project 1\"))\n"
   ]
  },
  {
   "cell_type": "code",
   "execution_count": 57,
   "id": "958e83f9",
   "metadata": {},
   "outputs": [
    {
     "name": "stdout",
     "output_type": "stream",
     "text": [
      "Booked 2 tickets for Avatar\n",
      "Cancelled 1 ticket for Avatar\n",
      "Movies: {'Avatar': 9, 'Batman': 5}\n"
     ]
    }
   ],
   "source": [
    "# ### 4. Movie Ticket Booking\n",
    "# Create a Cinema class with:\n",
    "# *Attributes: movies (dict → movie: seats available)\n",
    "# *Methods:\n",
    "# * book(movie, seats) → reduces seat count\n",
    "# * cancel(movie, seats) → adds back seats\n",
    "# * show_movies() → shows available seats\n",
    "# Sample Input \n",
    "# python \n",
    "# cinema = Cinema({\"Avatar\": 10, \"Batman\": 5})\n",
    "# print(cinema.book(\"Avatar\", 2) \n",
    "# print(cinema.cancel(\"Avatar\", 1) \n",
    "# cinema.show_movies()\n",
    "# Sample Output:\n",
    "# Booked 2 tickets for Avatar\n",
    "# Cancelled 1 ticket for Avatar\n",
    "# Movies: {'Avatar': 9, 'Batman': 5}\n",
    "class Cinema:\n",
    "    def __init__(self, movies=None):\n",
    "        if movies is None:\n",
    "            movies = {}\n",
    "        self.movies = movies\n",
    "\n",
    "    def book(self, movie, seats):\n",
    "        if movie in self.movies:\n",
    "            if seats <= self.movies[movie]:\n",
    "                self.movies[movie] -= seats\n",
    "                return f\"Booked {seats} tickets for {movie}\"\n",
    "            else:\n",
    "                return f\"Not enough seats available for {movie}\"\n",
    "        else:\n",
    "            return f\"{movie} not found\"\n",
    "\n",
    "    def cancel(self, movie, seats):\n",
    "        if movie in self.movies:\n",
    "            self.movies[movie] += seats\n",
    "            return f\"Cancelled {seats} ticket{'s' if seats>1 else ''} for {movie}\"\n",
    "        else:\n",
    "            return f\"{movie} not found\"\n",
    "\n",
    "    def show_movies(self):\n",
    "        print(f\"Movies: {self.movies}\")\n",
    "\n",
    "\n",
    "cinema = Cinema({\"Avatar\": 10, \"Batman\": 5})\n",
    "print(cinema.book(\"Avatar\", 2))\n",
    "print(cinema.cancel(\"Avatar\", 1))\n",
    "cinema.show_movies()\n",
    "\n",
    " \n"
   ]
  },
  {
   "cell_type": "code",
   "execution_count": 58,
   "id": "2f9cb0b4",
   "metadata": {},
   "outputs": [
    {
     "name": "stdout",
     "output_type": "stream",
     "text": [
      "Burger added\n",
      "Pizza added\n",
      "Pizza price updated to 250\n",
      "Burger removed\n",
      "Menu: {'Pizza': 250}\n"
     ]
    }
   ],
   "source": [
    "# ### 5. Restaurant Menu\n",
    "# Create a Menu class with:\n",
    "# *Attributes: items (dict → item: price)\n",
    "# *Methods:\n",
    "# * add_item(name, price)\n",
    "# * remove_item(name)\n",
    "# * update_price(name, new_price)\n",
    "# * show_menu()\n",
    "# Sample Input:\n",
    "# python\n",
    "# menu = Menu()\n",
    "# print(menu.add_item(\"Burger\", 100))\n",
    "# print(menu.add_item(\"Pizza\", 200) \n",
    "# print(menu.update_price(\"Pizza\", 250)) \n",
    "# print(menu.remove_item(\"Burger\")) \n",
    "# menu.show_menu()\n",
    "# Sample Output:\n",
    "# Burger added\n",
    "# Pizza added\n",
    "# Pizza price updated to 250\n",
    "# Burger removed\n",
    "# Menu: {'Pizza': 250}\n",
    "class Menu:\n",
    "    def __init__(self):\n",
    "        self.items = {}\n",
    "\n",
    "    def add_item(self, name, price):\n",
    "        self.items[name] = price\n",
    "        return f\"{name} added\"\n",
    "\n",
    "    def remove_item(self, name):\n",
    "        if name in self.items:\n",
    "            del self.items[name]\n",
    "            return f\"{name} removed\"\n",
    "        else:\n",
    "            return f\"{name} not found\"\n",
    "\n",
    "    def update_price(self, name, new_price):\n",
    "        if name in self.items:\n",
    "            self.items[name] = new_price\n",
    "            return f\"{name} price updated to {new_price}\"\n",
    "        else:\n",
    "            return f\"{name} not found\"\n",
    "\n",
    "    def show_menu(self):\n",
    "        print(f\"Menu: {self.items}\")\n",
    "\n",
    "\n",
    "menu = Menu()\n",
    "print(menu.add_item(\"Burger\", 100))\n",
    "print(menu.add_item(\"Pizza\", 200))\n",
    "print(menu.update_price(\"Pizza\", 250))\n",
    "print(menu.remove_item(\"Burger\"))\n",
    "menu.show_menu()\n"
   ]
  }
 ],
 "metadata": {
  "kernelspec": {
   "display_name": "Python 3",
   "language": "python",
   "name": "python3"
  },
  "language_info": {
   "codemirror_mode": {
    "name": "ipython",
    "version": 3
   },
   "file_extension": ".py",
   "mimetype": "text/x-python",
   "name": "python",
   "nbconvert_exporter": "python",
   "pygments_lexer": "ipython3",
   "version": "3.11.0"
  }
 },
 "nbformat": 4,
 "nbformat_minor": 5
}
